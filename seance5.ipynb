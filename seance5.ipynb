{
  "nbformat": 4,
  "nbformat_minor": 0,
  "metadata": {
    "kernelspec": {
      "display_name": "Python 3",
      "language": "python",
      "name": "python3"
    },
    "language_info": {
      "codemirror_mode": {
        "name": "ipython",
        "version": 3
      },
      "file_extension": ".py",
      "mimetype": "text/x-python",
      "name": "python",
      "nbconvert_exporter": "python",
      "pygments_lexer": "ipython3",
      "version": "3.7.6"
    },
    "colab": {
      "name": "seance5.ipynb",
      "provenance": []
    }
  },
  "cells": [
    {
      "cell_type": "markdown",
      "metadata": {
        "id": "HpeTlIPqWeat"
      },
      "source": [
        "Ex1:\n",
        "    \n",
        "1. Ecrire une fonction qui prend en entrée une fonction f et des réels a et h et donne en sortie le taux de variation (ou d'accroissement) de la fonction f entre le point d'abscisse a+h et a.\n",
        "2. Tester avec f(x)=3x^3+1x^2-5"
      ]
    },
    {
      "cell_type": "code",
      "metadata": {
        "id": "kDlWgdcQWeau"
      },
      "source": [
        "import numpy\n",
        "\n",
        "def tauxVariation(f, a, h):\n",
        "    t = (f(a + h) - f(a)) / h\n",
        "    return t\n",
        "\n",
        "def f(x):\n",
        "    return 3 * x**3 + 1 * x**2 - 5\n",
        "\n",
        "tauxVariation(f, 10, 3)"
      ],
      "execution_count": null,
      "outputs": []
    },
    {
      "cell_type": "markdown",
      "metadata": {
        "id": "kqWKAs6VWeax"
      },
      "source": [
        "Ex2:\n",
        "1. Ecrire une fonction qui calcule la liste des coefficients directeurs pour une fonction f définit sur I=[a;b] avec un pas \"p\"\n",
        "2. Tester avec f(x)=(1+x)/(x-4) définit sur I=[0,1] avec un pas de 0.01"
      ]
    },
    {
      "cell_type": "code",
      "metadata": {
        "id": "2L6Rr8EXWeax",
        "outputId": "05b4cf3e-ffd4-4a89-e701-0a07c9cd9568",
        "colab": {
          "base_uri": "https://localhost:8080/"
        }
      },
      "source": [
        "def coefDir(f, a, b, p):\n",
        "    coef = []\n",
        "    for i in numpy.arange(a, b, p):\n",
        "        coef.append(f(i + p) - f(i) / p)\n",
        "    return coef\n",
        "\n",
        "def f(x):\n",
        "    return (1 + x) / (x - 4)\n",
        "\n",
        "coefDir(f, 0, 1, 0.01)"
      ],
      "execution_count": 14,
      "outputs": [
        {
          "output_type": "execute_result",
          "data": {
            "text/plain": [
              "[24.7468671679198,\n",
              " 25.057001800984875,\n",
              " 25.368694859688873,\n",
              " 25.681958120245273,\n",
              " 25.996803477816137,\n",
              " 26.31324294801773,\n",
              " 26.63128866844913,\n",
              " 26.950952900244065,\n",
              " 27.272248029646644,\n",
              " 27.595186569611126,\n",
              " 27.91978116142641,\n",
              " 28.246044576365517,\n",
              " 28.573989717360615,\n",
              " 28.90362962070396,\n",
              " 29.23497745777539,\n",
              " 29.568046536796537,\n",
              " 29.902850304612706,\n",
              " 30.239402348502452,\n",
              " 30.577716398015692,\n",
              " 30.917806326840722,\n",
              " 31.259686154700734,\n",
              " 31.60337004928034,\n",
              " 31.94887232818267,\n",
              " 32.29620746091766,\n",
              " 32.645390070921984,\n",
              " 32.996434937611404,\n",
              " 33.34935699846597,\n",
              " 33.70417135114878,\n",
              " 34.06089325565893,\n",
              " 34.419538136519265,\n",
              " 34.780121584999634,\n",
              " 35.142659361376225,\n",
              " 35.50716739722782,\n",
              " 35.87366179776954,\n",
              " 36.242158844224875,\n",
              " 36.61267499623664,\n",
              " 36.9852268943178,\n",
              " 37.35983136234267,\n",
              " 37.736505410079424,\n",
              " 38.11526623576486,\n",
              " 38.49613122872176,\n",
              " 38.87911797202036,\n",
              " 39.2642442451841,\n",
              " 39.651528026941115,\n",
              " 40.040987498021835,\n",
              " 40.432641044004136,\n",
              " 40.82650725820649,\n",
              " 41.22260494463044,\n",
              " 41.620953120953125,\n",
              " 42.02157102157102,\n",
              " 42.424478100695865,\n",
              " 42.829694035503735,\n",
              " 43.2372387293385,\n",
              " 43.6471323149706,\n",
              " 44.05939515791237,\n",
              " 44.47404785979103,\n",
              " 44.89111126178046,\n",
              " 45.310606448093026,\n",
              " 45.732554749532675,\n",
              " 46.15697774711057,\n",
              " 46.58389727572445,\n",
              " 47.01333542790315,\n",
              " 47.44531455761769,\n",
              " 47.87985728415995,\n",
              " 48.316986496090976,\n",
              " 48.756725355259626,\n",
              " 49.19909730089372,\n",
              " 49.64412605376461,\n",
              " 50.09183562042733,\n",
              " 50.5422502975373,\n",
              " 50.995394676245745,\n",
              " 51.45129364667507,\n",
              " 51.90997240247631,\n",
              " 52.371456445470066,\n",
              " 52.835771590372815,\n",
              " 53.30294396961063,\n",
              " 53.77300003822191,\n",
              " 54.24596657885122,\n",
              " 54.72187070683617,\n",
              " 55.20073987538942,\n",
              " 55.68260188087774,\n",
              " 56.16748486820055,\n",
              " 56.65541733626967,\n",
              " 57.14642814359303,\n",
              " 57.640546513964225,\n",
              " 58.137802042260645,\n",
              " 58.63822470035204,\n",
              " 59.141844843122804,\n",
              " 59.648693214609615,\n",
              " 60.15880095425786,\n",
              " 60.67219960329887,\n",
              " 61.18892111125122,\n",
              " 61.70899784254833,\n",
              " 62.232462583296076,\n",
              " 62.75934854816243,\n",
              " 63.28968938740294,\n",
              " 63.82351919402466,\n",
              " 64.36087251109217,\n",
              " 64.90178433917845,\n",
              " 65.44629014396456]"
            ]
          },
          "metadata": {
            "tags": []
          },
          "execution_count": 14
        }
      ]
    },
    {
      "cell_type": "markdown",
      "metadata": {
        "id": "Wi25ITtAWeaz"
      },
      "source": [
        "Ex3:\n",
        "on considère une suite U définie par Un+1=Un+n+1 et de premier terme U0. Ecrire une fonction qui prend en entrée les valeurs de n et U0 et affiche la valeur de Un.\n",
        "1. De facon iterative\n",
        "2. Par recurence"
      ]
    },
    {
      "cell_type": "code",
      "metadata": {
        "id": "piUt2nIfWea0"
      },
      "source": [
        ""
      ],
      "execution_count": null,
      "outputs": []
    },
    {
      "cell_type": "markdown",
      "metadata": {
        "id": "QBA5OJzpWea2"
      },
      "source": [
        "Ex4:\n",
        "On pose Tn=n^2−(n−1)^2 ainsi que Sn=T1+T2+T3+...+Tn.\n",
        "1. Etant donné n, afficher la valeur de Sn."
      ]
    },
    {
      "cell_type": "code",
      "metadata": {
        "id": "sC3z_bezWea2",
        "outputId": "ea12d916-5e96-4162-b28b-15809b87486b",
        "colab": {
          "base_uri": "https://localhost:8080/"
        }
      },
      "source": [
        "def T(n):\n",
        "    return (n**2 - ((n - 1)**2))\n",
        "\n",
        "def S(n):\n",
        "    res = 0\n",
        "    for i in range(1, n + 1):\n",
        "        res = res + T(i)\n",
        "    return res\n",
        "S(3)"
      ],
      "execution_count": 15,
      "outputs": [
        {
          "output_type": "execute_result",
          "data": {
            "text/plain": [
              "9"
            ]
          },
          "metadata": {
            "tags": []
          },
          "execution_count": 15
        }
      ]
    },
    {
      "cell_type": "markdown",
      "metadata": {
        "id": "wF_MMAtXWea5"
      },
      "source": [
        "Ex5:\n",
        "Soit la suite définie par Un+1=0.5.Un et de premier terme U0. Plus la valeur de n augmente, plus les valeurs de Un se rapprochent de 0.\n",
        "\n",
        "Ecrire une fonction qui permet de déterminer pour un réel positif e donné, quel est le plus petit entier n tel que la valeur de Un soit inférieure à e.\n"
      ]
    },
    {
      "cell_type": "code",
      "metadata": {
        "id": "DJBMiqDhWea5",
        "outputId": "5ff7f58d-22fd-4df2-b7e6-24f5f43d59db",
        "colab": {
          "base_uri": "https://localhost:8080/"
        }
      },
      "source": [
        "def ppn(e, u0):\n",
        "    b = 1;\n",
        "    un = u0\n",
        "    n = 0;\n",
        "    while ( b == 1 ):\n",
        "        un = uN(un)\n",
        "        print(un)\n",
        "        if(un < e):\n",
        "            b = 0\n",
        "        else:\n",
        "            n += 1\n",
        "    return n;\n",
        "\n",
        "def uN(un):\n",
        "    return 0.5 * un\n",
        "\n",
        "ppn(5, 2)"
      ],
      "execution_count": 16,
      "outputs": [
        {
          "output_type": "stream",
          "text": [
            "1.0\n"
          ],
          "name": "stdout"
        },
        {
          "output_type": "execute_result",
          "data": {
            "text/plain": [
              "0"
            ]
          },
          "metadata": {
            "tags": []
          },
          "execution_count": 16
        }
      ]
    },
    {
      "cell_type": "markdown",
      "metadata": {
        "id": "OduAVcWVWea8"
      },
      "source": [
        "Ex6: Constante K de Catalan : https://fr.wikipedia.org/wiki/Constante_de_Catalan\n",
        "Ecrire une fonction qui permet de retourner une valeur approchée de la constante K et en s’arrêtant dès que la valeur absolue de la différence entre deux somme successives devienne inférieure ou égale à une erreur epsilon donnée en paramètre.\n",
        "\n"
      ]
    },
    {
      "cell_type": "code",
      "metadata": {
        "id": "HGTQy1atWea8",
        "outputId": "a9e25385-5955-40d8-cbd6-e32debc5648b",
        "colab": {
          "base_uri": "https://localhost:8080/"
        }
      },
      "source": [
        "def func(e): \n",
        "    elm1 = 1\n",
        "    elm2 = elm1 - 1 / (3**2)\n",
        "    signe = 1\n",
        "    val = 5\n",
        "    while abs(elm2 - elm1) > e:\n",
        "       elm1 = elm2\n",
        "       elm2 = elm1 + signe * (1 / (val**2))\n",
        "       val += 2\n",
        "       signe *= (-1)\n",
        "    return elm2\n",
        " \n",
        "print(func(0.05))"
      ],
      "execution_count": 17,
      "outputs": [
        {
          "output_type": "stream",
          "text": [
            "0.9288888888888889\n"
          ],
          "name": "stdout"
        }
      ]
    },
    {
      "cell_type": "markdown",
      "metadata": {
        "id": "ZA6fNbzgWea_"
      },
      "source": [
        "Ex 7:\n",
        "Ecrivez une fonction permettant de calculer la limite à epsilon près de la suite définie par la relation de récurrence :\n",
        "\n",
        "U0 =2\n",
        "Un+1= Un + 2/Un  , n>0.\n",
        "\n",
        "On arrête d’itérer quand l’intervalle entre 2 termes consécutifs devient strictement inférieur à epsilon."
      ]
    },
    {
      "cell_type": "code",
      "metadata": {
        "id": "aCFHj0KAbkwt",
        "outputId": "7a447530-7bb1-468c-cbfc-72de30026b43",
        "colab": {
          "base_uri": "https://localhost:8080/"
        }
      },
      "source": [
        "def limite(e):\n",
        "    u0 = 2\n",
        "    un = u0 + 2 / u0\n",
        "    while abs(un - u0) > e:\n",
        "        u0 = un\n",
        "        un = u0 + 2 / u0\n",
        "    return un\n",
        "\n",
        "print(limite(0.05))"
      ],
      "execution_count": 22,
      "outputs": [
        {
          "output_type": "stream",
          "text": [
            "40.07875060343533\n"
          ],
          "name": "stdout"
        }
      ]
    }
  ]
}